{
  "nbformat": 4,
  "nbformat_minor": 0,
  "metadata": {
    "kernelspec": {
      "display_name": "Python 3",
      "language": "python",
      "name": "python3"
    },
    "language_info": {
      "codemirror_mode": {
        "name": "ipython",
        "version": 3
      },
      "file_extension": ".py",
      "mimetype": "text/x-python",
      "name": "python",
      "nbconvert_exporter": "python",
      "pygments_lexer": "ipython3",
      "version": "3.6.5"
    },
    "colab": {
      "name": "exercise-your-first-machine-learning-model.ipynb",
      "provenance": [],
      "include_colab_link": true
    }
  },
  "cells": [
    {
      "cell_type": "markdown",
      "metadata": {
        "id": "view-in-github",
        "colab_type": "text"
      },
      "source": [
        "<a href=\"https://colab.research.google.com/github/Ridhomadani/PembelajaranMesin_Week1/blob/main/exercise_your_first_machine_learning_model.ipynb\" target=\"_parent\"><img src=\"https://colab.research.google.com/assets/colab-badge.svg\" alt=\"Open In Colab\"/></a>"
      ]
    },
    {
      "cell_type": "markdown",
      "metadata": {
        "id": "HixVZ-8yCeXV"
      },
      "source": [
        "**This notebook is an exercise in the [Introduction to Machine Learning](https://www.kaggle.com/learn/intro-to-machine-learning) course.  You can reference the tutorial at [this link](https://www.kaggle.com/dansbecker/your-first-machine-learning-model).**\n",
        "\n",
        "---\n"
      ]
    },
    {
      "cell_type": "markdown",
      "metadata": {
        "id": "Bhplq2VqCeXh"
      },
      "source": [
        "## Recap\n",
        "So far, you have loaded your data and reviewed it with the following code. Run this cell to set up your coding environment where the previous step left off."
      ]
    },
    {
      "cell_type": "code",
      "metadata": {
        "collapsed": true,
        "jupyter": {
          "outputs_hidden": true
        },
        "id": "Ipf84_pICeXk"
      },
      "source": [
        "# Code you have previously used to load data\n",
        "import pandas as pd\n",
        "\n",
        "# Path of the file to read\n",
        "iowa_file_path = '../input/home-data-for-ml-course/train.csv'\n",
        "\n",
        "home_data = pd.read_csv(iowa_file_path)\n",
        "\n",
        "# Set up code checking\n",
        "from learntools.core import binder\n",
        "binder.bind(globals())\n",
        "from learntools.machine_learning.ex3 import *\n",
        "\n",
        "print(\"Setup Complete\")"
      ],
      "execution_count": null,
      "outputs": []
    },
    {
      "cell_type": "markdown",
      "metadata": {
        "id": "HqvI3VZTCeXo"
      },
      "source": [
        "# Exercises\n",
        "\n",
        "## Step 1: Specify Prediction Target\n",
        "Select the target variable, which corresponds to the sales price. Save this to a new variable called `y`. You'll need to print a list of the columns to find the name of the column you need.\n"
      ]
    },
    {
      "cell_type": "code",
      "metadata": {
        "collapsed": true,
        "jupyter": {
          "outputs_hidden": true
        },
        "id": "-qBBWcBhCeXq"
      },
      "source": [
        "# print the list of columns in the dataset to find the name of the prediction target\n"
      ],
      "execution_count": null,
      "outputs": []
    },
    {
      "cell_type": "code",
      "metadata": {
        "collapsed": true,
        "jupyter": {
          "outputs_hidden": true
        },
        "id": "bONCV9DeCeXr"
      },
      "source": [
        "y = ____\n",
        "\n",
        "# Check your answer\n",
        "step_1.check()"
      ],
      "execution_count": null,
      "outputs": []
    },
    {
      "cell_type": "code",
      "metadata": {
        "collapsed": true,
        "jupyter": {
          "outputs_hidden": true
        },
        "id": "0BSQa84ACeXs"
      },
      "source": [
        "# The lines below will show you a hint or the solution.\n",
        "# step_1.hint() \n",
        "# step_1.solution()"
      ],
      "execution_count": null,
      "outputs": []
    },
    {
      "cell_type": "markdown",
      "metadata": {
        "id": "YPDSFpL3CeXt"
      },
      "source": [
        "## Step 2: Create X\n",
        "Now you will create a DataFrame called `X` holding the predictive features.\n",
        "\n",
        "Since you want only some columns from the original data, you'll first create a list with the names of the columns you want in `X`.\n",
        "\n",
        "You'll use just the following columns in the list (you can copy and paste the whole list to save some typing, though you'll still need to add quotes):\n",
        "    * LotArea\n",
        "    * YearBuilt\n",
        "    * 1stFlrSF\n",
        "    * 2ndFlrSF\n",
        "    * FullBath\n",
        "    * BedroomAbvGr\n",
        "    * TotRmsAbvGrd\n",
        "\n",
        "After you've created that list of features, use it to create the DataFrame that you'll use to fit the model."
      ]
    },
    {
      "cell_type": "code",
      "metadata": {
        "collapsed": true,
        "jupyter": {
          "outputs_hidden": true
        },
        "id": "SU8wZFgZCeXv"
      },
      "source": [
        "# Create the list of features below\n",
        "feature_names = ___\n",
        "\n",
        "# Select data corresponding to features in feature_names\n",
        "X = ____\n",
        "\n",
        "# Check your answer\n",
        "step_2.check()"
      ],
      "execution_count": null,
      "outputs": []
    },
    {
      "cell_type": "code",
      "metadata": {
        "collapsed": true,
        "jupyter": {
          "outputs_hidden": true
        },
        "id": "OIlCpgbdCeXx"
      },
      "source": [
        "# step_2.hint()\n",
        "# step_2.solution()"
      ],
      "execution_count": null,
      "outputs": []
    },
    {
      "cell_type": "markdown",
      "metadata": {
        "id": "3l-X3Xq6CeXz"
      },
      "source": [
        "## Review Data\n",
        "Before building a model, take a quick look at **X** to verify it looks sensible"
      ]
    },
    {
      "cell_type": "code",
      "metadata": {
        "collapsed": true,
        "jupyter": {
          "outputs_hidden": true
        },
        "id": "rFVkvgrvCeXz"
      },
      "source": [
        "# Review data\n",
        "# print description or statistics from X\n",
        "#print(_)\n",
        "\n",
        "# print the top few lines\n",
        "#print(_)"
      ],
      "execution_count": null,
      "outputs": []
    },
    {
      "cell_type": "markdown",
      "metadata": {
        "id": "rpurUGMJCeX0"
      },
      "source": [
        "## Step 3: Specify and Fit Model\n",
        "Create a `DecisionTreeRegressor` and save it iowa_model. Ensure you've done the relevant import from sklearn to run this command.\n",
        "\n",
        "Then fit the model you just created using the data in `X` and `y` that you saved above."
      ]
    },
    {
      "cell_type": "code",
      "metadata": {
        "collapsed": true,
        "jupyter": {
          "outputs_hidden": true
        },
        "id": "1Kog3NXhCeX1"
      },
      "source": [
        "# from _ import _\n",
        "#specify the model. \n",
        "#For model reproducibility, set a numeric value for random_state when specifying the model\n",
        "iowa_model = ____\n",
        "\n",
        "# Fit the model\n",
        "____\n",
        "\n",
        "# Check your answer\n",
        "step_3.check()"
      ],
      "execution_count": null,
      "outputs": []
    },
    {
      "cell_type": "code",
      "metadata": {
        "collapsed": true,
        "jupyter": {
          "outputs_hidden": true
        },
        "id": "Aj4MSRyOCeX4"
      },
      "source": [
        "# step_3.hint()\n",
        "# step_3.solution()"
      ],
      "execution_count": null,
      "outputs": []
    },
    {
      "cell_type": "markdown",
      "metadata": {
        "id": "byuGvGLaCeX6"
      },
      "source": [
        "## Step 4: Make Predictions\n",
        "Make predictions with the model's `predict` command using `X` as the data. Save the results to a variable called `predictions`."
      ]
    },
    {
      "cell_type": "code",
      "metadata": {
        "collapsed": true,
        "jupyter": {
          "outputs_hidden": true
        },
        "id": "kbAWTTb1CeX7"
      },
      "source": [
        "predictions = ____\n",
        "print(predictions)\n",
        "\n",
        "# Check your answer\n",
        "step_4.check()"
      ],
      "execution_count": null,
      "outputs": []
    },
    {
      "cell_type": "code",
      "metadata": {
        "collapsed": true,
        "jupyter": {
          "outputs_hidden": true
        },
        "id": "JvBLtHUwCeX8"
      },
      "source": [
        "# step_4.hint()\n",
        "# step_4.solution()"
      ],
      "execution_count": null,
      "outputs": []
    },
    {
      "cell_type": "markdown",
      "metadata": {
        "id": "6KoDcWdACeX9"
      },
      "source": [
        "## Think About Your Results\n",
        "\n",
        "Use the `head` method to compare the top few predictions to the actual home values (in `y`) for those same homes. Anything surprising?\n"
      ]
    },
    {
      "cell_type": "code",
      "metadata": {
        "id": "BLREUz8GCeX-"
      },
      "source": [
        "# You can write code in this cell\n"
      ],
      "execution_count": null,
      "outputs": []
    },
    {
      "cell_type": "markdown",
      "metadata": {
        "id": "9bwffhD9CeYA"
      },
      "source": [
        "It's natural to ask how accurate the model's predictions will be and how you can improve that. That will be you're next step.\n",
        "\n",
        "# Keep Going\n",
        "\n",
        "You are ready for **[Model Validation](https://www.kaggle.com/dansbecker/model-validation).**\n"
      ]
    }
  ]
}